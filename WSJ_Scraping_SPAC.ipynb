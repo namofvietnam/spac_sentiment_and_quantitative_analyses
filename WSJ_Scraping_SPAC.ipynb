{
 "cells": [
  {
   "cell_type": "code",
   "execution_count": 1,
   "id": "ca0b3cfe",
   "metadata": {},
   "outputs": [],
   "source": [
    "!pip install selenium --quiet"
   ]
  },
  {
   "cell_type": "code",
   "execution_count": null,
   "id": "37b08585",
   "metadata": {},
   "outputs": [],
   "source": [
    "import time\n",
    "\n",
    "from selenium import webdriver\n",
    "\n",
    "driver = webdriver.Chrome() \n",
    "\n",
    "# Need to download compatible Chrome Driver"
   ]
  },
  {
   "cell_type": "code",
   "execution_count": null,
   "id": "39ae917a",
   "metadata": {},
   "outputs": [],
   "source": [
    "from selenium.webdriver.common.by import By\n",
    "from selenium.webdriver.support.ui import WebDriverWait\n",
    "from selenium.webdriver.support import expected_conditions as EC\n",
    "\n",
    "from selenium.common.exceptions import NoSuchElementException\n",
    "from selenium.common.exceptions import ElementNotInteractableException\n",
    "from selenium.common.exceptions import ElementClickInterceptedException\n",
    "from selenium.common.exceptions import StaleElementReferenceException\n",
    "from selenium.webdriver.chrome.options import Options\n",
    "\n",
    "from webdriver_manager.chrome import ChromeDriverManager"
   ]
  },
  {
   "cell_type": "code",
   "execution_count": 2,
   "id": "854d5f68",
   "metadata": {},
   "outputs": [],
   "source": [
    "import pandas as pd\n",
    "import csv\n",
    "import re\n",
    "import time\n",
    "import os "
   ]
  },
  {
   "cell_type": "code",
   "execution_count": 8,
   "id": "8c4f0a2d",
   "metadata": {},
   "outputs": [],
   "source": [
    "url = 'https://www.wsj.com/search?query=SPAC&isToggleOn=true&operator=AND&sort=date-desc&duration=4y&startDate=2018%2F03%2F09&endDate=2022%2F03%2F09&source=wsjie'\n",
    "# Articles with keyword 'SPAC' over thew past 4 years\n",
    "\n",
    "#options = webdriver.ChromeOptions()\n",
    "#options.add_argument(\"start-maximized\");\n",
    "#options.add_argument(\"disable-infobars\")\n",
    "#options.add_argument(\"--disable-extensions\")\n",
    "#chrome_options = Options()\n",
    "#chrome_options.add_argument(\"--window-size=1920,1080\")\n",
    "#prefs = {\"profile.managed_default_content_settings.images\": 2}\n",
    "#chrome_options.add_experimental_option(\"prefs\", prefs)\n",
    "#driver = webdriver.Chrome(ChromeDriverManager().install(), options=chrome_options)\n",
    "# url_article = requests(url)\n",
    "driver = webdriver.Chrome()  \n",
    "driver.get(url)"
   ]
  },
  {
   "cell_type": "markdown",
   "id": "894b867a",
   "metadata": {},
   "source": [
    "Sign in manually"
   ]
  },
  {
   "cell_type": "code",
   "execution_count": 9,
   "id": "3f0e572b",
   "metadata": {},
   "outputs": [
    {
     "data": {
      "text/plain": [
       "[<selenium.webdriver.remote.webelement.WebElement (session=\"679e2a6d6d3d23deacc6b0171afd1977\", element=\"0fad3612-0866-4259-9edc-585cafc27aa7\")>,\n",
       " <selenium.webdriver.remote.webelement.WebElement (session=\"679e2a6d6d3d23deacc6b0171afd1977\", element=\"96eaf5df-3fa1-47d6-956e-15d6d6b1853a\")>,\n",
       " <selenium.webdriver.remote.webelement.WebElement (session=\"679e2a6d6d3d23deacc6b0171afd1977\", element=\"d75da8f0-a2ce-4221-ab85-f4186d0936b6\")>,\n",
       " <selenium.webdriver.remote.webelement.WebElement (session=\"679e2a6d6d3d23deacc6b0171afd1977\", element=\"69b91633-fc2d-49f6-8a1a-0eaaf17f88d7\")>,\n",
       " <selenium.webdriver.remote.webelement.WebElement (session=\"679e2a6d6d3d23deacc6b0171afd1977\", element=\"da7d0c81-7c34-4d6c-b7a5-37f780f151d3\")>,\n",
       " <selenium.webdriver.remote.webelement.WebElement (session=\"679e2a6d6d3d23deacc6b0171afd1977\", element=\"d9055f45-4f75-4cb7-87be-4305d63a8f7c\")>,\n",
       " <selenium.webdriver.remote.webelement.WebElement (session=\"679e2a6d6d3d23deacc6b0171afd1977\", element=\"4d9a0ab6-4597-4879-8fd8-6e73d250e61e\")>,\n",
       " <selenium.webdriver.remote.webelement.WebElement (session=\"679e2a6d6d3d23deacc6b0171afd1977\", element=\"a339e2fa-6b48-40fb-bd5d-ab28b4b9fcbd\")>,\n",
       " <selenium.webdriver.remote.webelement.WebElement (session=\"679e2a6d6d3d23deacc6b0171afd1977\", element=\"e504719c-f551-4ce7-98e9-40f90898d10b\")>]"
      ]
     },
     "execution_count": 9,
     "metadata": {},
     "output_type": "execute_result"
    }
   ],
   "source": [
    "article_links = driver.find_elements(By.XPATH,'//*[@id=\"main\"]/div/article/div/div/div/div/h3/a')\n",
    "article_links[1:10]\n",
    "# Unfortunately these links change due to dynamic id, so we can't put them in a loop."
   ]
  },
  {
   "cell_type": "code",
   "execution_count": null,
   "id": "21554d79",
   "metadata": {},
   "outputs": [],
   "source": [
    "headline = []\n",
    "subheading = []\n",
    "time_stamp = []\n",
    "content = []\n",
    "for i in range(0,20):\n",
    "    article_links = driver.find_elements(By.XPATH,'//*[@id=\"main\"]/div/article/div/div/div/div/h3/a')\n",
    "    article_links[i].click()\n",
    "    WebDriverWait(driver, 40).until(EC.element_to_be_clickable((By.XPATH,'//*[@id=\"main\"]/div/div/div')))\n",
    "    try:\n",
    "        headline.append(driver.find_element(By.XPATH,'.//h1[@class=\"wsj-article-headline\"]').text)\n",
    "    except:\n",
    "        head_alt = driver.find_element(By.TAG_NAME,'title').get_attribute('textContent')\n",
    "        headline.append(head_alt)\n",
    "    try:\n",
    "        subheading.append(driver.find_element(By.XPATH,'//*[@id=\"main\"]/header/div/div/h2').text)\n",
    "    except: \n",
    "        subheading.append(driver.find_element(By.CLASS_NAME,'bigTop__dek').text)\n",
    "    time_stamp.append(driver.find_element(By.XPATH,\".//time[@class='timestamp article__timestamp flexbox__flex--1']\").text)\n",
    "    content.append(driver.find_element(By.XPATH,'//*[@id=\"main\"]/div/div/div').text)\n",
    "    driver.back()\n",
    "    WebDriverWait(driver, 40).until(EC.element_to_be_clickable((By.XPATH,'//*[@id=\"main\"]/div/article/div/div/div/div/h3/a')))"
   ]
  },
  {
   "cell_type": "code",
   "execution_count": null,
   "id": "649838d6",
   "metadata": {},
   "outputs": [],
   "source": [
    "# Let's save the first 20 before the monster loop. If anything happens, we have back-up\n",
    "currentFrame = pd.DataFrame({'headline':headline,'subheading':subheading,'timestamp':time_stamp,'content':content})\n",
    "currentFrame.to_csv('20 articles for 20 hours.csv',index=False)"
   ]
  },
  {
   "cell_type": "code",
   "execution_count": 22,
   "id": "9711f35a",
   "metadata": {},
   "outputs": [
    {
     "data": {
      "text/plain": [
       "['Company traps waste gas, uses bacteria to turn it into sustainable chemicals and products for customers including Unilever and Coty',\n",
       " 'Some estimates put the unit’s projected valuation at above $50 billion',\n",
       " 'Company is latest in a string of SPAC deals that have performed poorly in the stock market',\n",
       " 'Hot upstarts that went public via blank-check companies are missing revenue and earnings targets—sometimes months after making those forecasts',\n",
       " 'Major indexes recover after invasion of Ukraine sends stocks lower and oil above $100 a barrel']"
      ]
     },
     "execution_count": 22,
     "metadata": {},
     "output_type": "execute_result"
    }
   ],
   "source": [
    "# if messed up, reload the back-up and reassign the lists\n",
    "\n",
    "currentFrame= pd.read_csv('20 articles for 20 hours.csv')\n",
    "headline=currentFrame['headline'].tolist()\n",
    "subheading = currentFrame['subheading'].tolist()\n",
    "time_stamp = currentFrame['timestamp'].tolist()\n",
    "content = currentFrame['content'].tolist()\n",
    "type(headline)\n",
    "subheading[0:5]"
   ]
  },
  {
   "cell_type": "code",
   "execution_count": null,
   "id": "320e3187",
   "metadata": {},
   "outputs": [],
   "source": [
    "# Now when we go back to the first page that had a list of 20 articles\n",
    "# Click next\n",
    "# and attempt a similar strategy\n",
    "while True:\n",
    "    driver.find_elements(By.XPATH,'//a[@class=\"WSJTheme--button--12LOad_- typography--sans-serif--1WZesAGA WSJTheme--pagination--3MTI0FnK WSJTheme--next--2r7-j2I8 \"][@href]')[0].click()\n",
    "    WebDriverWait(driver, 35).until(EC.element_to_be_clickable((By.XPATH,'//*[@id=\"main\"]/div/article/div/div/div/div/h3/a')))\n",
    "    \n",
    "    for i in range(0,20):\n",
    "        article_links = driver.find_elements(By.XPATH,'//*[@id=\"main\"]/div/article/div/div/div/div/h3/a')\n",
    "        article_links[i].click()\n",
    "        WebDriverWait(driver, 50).until(EC.element_to_be_clickable((By.XPATH,'//*[@id=\"wsj-article-wrap\"]')))\n",
    "        try:\n",
    "            headline.append(driver.find_element(By.XPATH,'.//h1[@class=\"wsj-article-headline\"]').text)\n",
    "        except:\n",
    "            head_alt = driver.find_element(By.TAG_NAME,'title').get_attribute('textContent')\n",
    "            headline.append(head_alt)\n",
    "        try:\n",
    "            subheading.append(driver.find_element(By.XPATH,'//*[@id=\"main\"]/header/div/div/h2').text)\n",
    "        except: \n",
    "            try:\n",
    "                subheading.append(driver.find_element(By.CLASS_NAME,'bigTop__dek').text)\n",
    "            except:\n",
    "                subheading.append('')\n",
    "        time_stamp.append(driver.find_element(By.XPATH,\".//time[@class='timestamp article__timestamp flexbox__flex--1']\").text)\n",
    "        content.append(driver.find_element(By.XPATH,'//*[@id=\"wsj-article-wrap\"]').text)\n",
    "        driver.back()\n",
    "        WebDriverWait(driver, 50).until(EC.element_to_be_clickable((By.XPATH,'//*[@id=\"main\"]/div/article/div/div/div/div/h3/a')))\n",
    "    WebDriverWait(driver, 20).until(EC.element_to_be_clickable((By.XPATH,'//a[@class=\"WSJTheme--button--12LOad_- typography--sans-serif--1WZesAGA WSJTheme--pagination--3MTI0FnK WSJTheme--next--2r7-j2I8 \"][@href]')))\n"
   ]
  },
  {
   "cell_type": "markdown",
   "id": "f3f7785a",
   "metadata": {},
   "source": [
    "The loop stopped at article 53 because it is a list of articles with no subheader.\n",
    "Bypass this with try-catch and another try-catch for the except term to catch ohter strange format\n",
    "Should have try-catch all lists to keep the loop running till the end. It finally stopped at article 354 because 355 had strange format."
   ]
  },
  {
   "cell_type": "code",
   "execution_count": 75,
   "id": "cabdf586",
   "metadata": {},
   "outputs": [],
   "source": [
    "dfwsj = pd.DataFrame({'headline':headline,'subheading':subheading,'timestamp':time_stamp,'content':content}).drop_duplicates()\n",
    "dfwsj.to_excel('final_WSJ_News.xlsx',index = False)"
   ]
  }
 ],
 "metadata": {
  "kernelspec": {
   "display_name": "Python 3 (ipykernel)",
   "language": "python",
   "name": "python3"
  },
  "language_info": {
   "codemirror_mode": {
    "name": "ipython",
    "version": 3
   },
   "file_extension": ".py",
   "mimetype": "text/x-python",
   "name": "python",
   "nbconvert_exporter": "python",
   "pygments_lexer": "ipython3",
   "version": "3.9.12"
  }
 },
 "nbformat": 4,
 "nbformat_minor": 5
}
